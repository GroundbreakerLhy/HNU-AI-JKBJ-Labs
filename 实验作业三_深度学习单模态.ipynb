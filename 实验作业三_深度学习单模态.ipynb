{
 "cells": [
  {
   "cell_type": "markdown",
   "id": "8c9fda4c-4d10-44b0-86d9-0187ae18ed6a",
   "metadata": {},
   "source": [
    "### 使用BertTokenizer进行文本向量化"
   ]
  },
  {
   "cell_type": "code",
   "execution_count": 291,
   "id": "3061bfb7-790b-40e4-84a5-21777e581d49",
   "metadata": {},
   "outputs": [],
   "source": [
    "import pandas as pd\n",
    "import matplotlib.pyplot as plt\n",
    "import torch\n",
    "from tqdm import tqdm\n",
    "from transformers import BertTokenizer\n",
    "from torch.utils.data import TensorDataset\n",
    "\n",
    "import warnings\n",
    "warnings.filterwarnings('ignore')"
   ]
  },
  {
   "cell_type": "markdown",
   "id": "54eda0a5-9aea-4c99-b3ea-a90cf4d4c962",
   "metadata": {},
   "source": [
    "## 1、构造文本特征提取函数"
   ]
  },
  {
   "cell_type": "code",
   "execution_count": 292,
   "id": "037185c3-14fb-48b7-894e-8870d1786124",
   "metadata": {},
   "outputs": [],
   "source": [
    "## 文本向量化函数\n",
    "## text_list 文本内容的list\n",
    "## 返回一个字典，{'input_ids':value, 'token_type_ids':value, 'attention_mask':value},每个元素的长度等于len(text_list)\n",
    "## \"input_ids\"-词转换为数字后的序列 'token_type_ids'-标记一段文本中不同句子的序号 'attention_mask'-标记填充位置的序号 \n",
    "## reference: https://huggingface.co/docs/transformers/main/en/glossary\n",
    "def text_tokenize(text_list): \n",
    "    tokenizer = BertTokenizer.from_pretrained('./bert-base-uncased',do_lower_case=True)\n",
    "    encoded_text = tokenizer.batch_encode_plus(\n",
    "        text_list,\n",
    "        add_special_tokens=True,\n",
    "        return_attention_mask=True,\n",
    "        pad_to_max_length=True,\n",
    "        max_length=256,\n",
    "        return_tensors='pt'\n",
    "    )\n",
    "    return encoded_text\n",
    "## 'input_ids' 'token_type_ids' 'attention_mask'"
   ]
  },
  {
   "cell_type": "code",
   "execution_count": 293,
   "id": "8244820c-61db-4956-ac2a-70826f38f63d",
   "metadata": {},
   "outputs": [
    {
     "name": "stderr",
     "output_type": "stream",
     "text": [
      "Truncation was not explicitly activated but `max_length` is provided a specific value, please use `truncation=True` to explicitly truncate examples to max length. Defaulting to 'longest_first' truncation strategy. If you encode pairs of sequences (GLUE-style) with the tokenizer you can select this strategy more precisely by providing a specific strategy to `truncation`.\n"
     ]
    },
    {
     "name": "stdout",
     "output_type": "stream",
     "text": [
      "<class 'transformers.tokenization_utils_base.BatchEncoding'> 3 2\n"
     ]
    },
    {
     "data": {
      "text/plain": [
       "256"
      ]
     },
     "execution_count": 293,
     "metadata": {},
     "output_type": "execute_result"
    }
   ],
   "source": [
    "## 文本向量化示例\n",
    "temp_txt_list = [\"Hello,my name is Jerry.\",\"Hello,my name is Tom.\"]\n",
    "temp_coded_txt = text_tokenize(temp_txt_list)\n",
    "print(type(temp_coded_txt),len(temp_coded_txt),len(temp_coded_txt[\"input_ids\"]))\n",
    "len(temp_coded_txt[\"token_type_ids\"][0])"
   ]
  },
  {
   "cell_type": "markdown",
   "id": "d1406f0d-5ecc-489d-9395-46818f35961c",
   "metadata": {},
   "source": [
    "## 2、读入CSV文件示例"
   ]
  },
  {
   "cell_type": "code",
   "execution_count": 294,
   "id": "2996d3bc-d357-4668-a624-a76d3f4fe372",
   "metadata": {},
   "outputs": [],
   "source": [
    "## 读入csv文件示例\n",
    "## 由于我们的csv文件使用\"#\"分隔，需要定义sep参数为\"#\",否则会读取失败！！！\n",
    "train_csv = pd.read_csv(\"./CSVfile/train.csv\",sep=\"#\")"
   ]
  },
  {
   "cell_type": "code",
   "execution_count": 295,
   "id": "f05c3893-b7e7-44e1-b724-ce3f8b2d2540",
   "metadata": {},
   "outputs": [
    {
     "data": {
      "text/plain": [
       "'Excuse me.'"
      ]
     },
     "execution_count": 295,
     "metadata": {},
     "output_type": "execute_result"
    }
   ],
   "source": [
    "train_csv.text.values[0]"
   ]
  },
  {
   "cell_type": "code",
   "execution_count": 296,
   "id": "743c4b1c-beb9-4802-8ad4-eaff49fa7f39",
   "metadata": {},
   "outputs": [
    {
     "data": {
      "text/html": [
       "<div>\n",
       "<style scoped>\n",
       "    .dataframe tbody tr th:only-of-type {\n",
       "        vertical-align: middle;\n",
       "    }\n",
       "\n",
       "    .dataframe tbody tr th {\n",
       "        vertical-align: top;\n",
       "    }\n",
       "\n",
       "    .dataframe thead th {\n",
       "        text-align: right;\n",
       "    }\n",
       "</style>\n",
       "<table border=\"1\" class=\"dataframe\">\n",
       "  <thead>\n",
       "    <tr style=\"text-align: right;\">\n",
       "      <th></th>\n",
       "      <th>num</th>\n",
       "      <th>id</th>\n",
       "      <th>path</th>\n",
       "      <th>text</th>\n",
       "      <th>label</th>\n",
       "    </tr>\n",
       "  </thead>\n",
       "  <tbody>\n",
       "    <tr>\n",
       "      <th>0</th>\n",
       "      <td>1</td>\n",
       "      <td>Ses01F_impro01_F000</td>\n",
       "      <td>train/Ses01F_impro01_F000.wav</td>\n",
       "      <td>Excuse me.</td>\n",
       "      <td>2</td>\n",
       "    </tr>\n",
       "    <tr>\n",
       "      <th>1</th>\n",
       "      <td>2</td>\n",
       "      <td>Ses01F_impro01_F001</td>\n",
       "      <td>train/Ses01F_impro01_F001.wav</td>\n",
       "      <td>Yeah.</td>\n",
       "      <td>2</td>\n",
       "    </tr>\n",
       "    <tr>\n",
       "      <th>2</th>\n",
       "      <td>3</td>\n",
       "      <td>Ses01F_impro01_F002</td>\n",
       "      <td>train/Ses01F_impro01_F002.wav</td>\n",
       "      <td>Is there a problem?</td>\n",
       "      <td>2</td>\n",
       "    </tr>\n",
       "    <tr>\n",
       "      <th>3</th>\n",
       "      <td>4</td>\n",
       "      <td>Ses01F_impro01_F005</td>\n",
       "      <td>train/Ses01F_impro01_F005.wav</td>\n",
       "      <td>Well what's the problem?  Let me change it.</td>\n",
       "      <td>2</td>\n",
       "    </tr>\n",
       "    <tr>\n",
       "      <th>4</th>\n",
       "      <td>5</td>\n",
       "      <td>Ses01F_impro01_F012</td>\n",
       "      <td>train/Ses01F_impro01_F012.wav</td>\n",
       "      <td>That's out of control.</td>\n",
       "      <td>0</td>\n",
       "    </tr>\n",
       "  </tbody>\n",
       "</table>\n",
       "</div>"
      ],
      "text/plain": [
       "   num                   id                           path  \\\n",
       "0    1  Ses01F_impro01_F000  train/Ses01F_impro01_F000.wav   \n",
       "1    2  Ses01F_impro01_F001  train/Ses01F_impro01_F001.wav   \n",
       "2    3  Ses01F_impro01_F002  train/Ses01F_impro01_F002.wav   \n",
       "3    4  Ses01F_impro01_F005  train/Ses01F_impro01_F005.wav   \n",
       "4    5  Ses01F_impro01_F012  train/Ses01F_impro01_F012.wav   \n",
       "\n",
       "                                          text  label  \n",
       "0                                   Excuse me.      2  \n",
       "1                                        Yeah.      2  \n",
       "2                          Is there a problem?      2  \n",
       "3  Well what's the problem?  Let me change it.      2  \n",
       "4                       That's out of control.      0  "
      ]
     },
     "execution_count": 296,
     "metadata": {},
     "output_type": "execute_result"
    }
   ],
   "source": [
    "## 快速查看前5条数据\n",
    "train_csv.head(5)"
   ]
  },
  {
   "cell_type": "code",
   "execution_count": 297,
   "id": "b5ab3872-3da8-4f5f-9331-b72a4ddbd472",
   "metadata": {},
   "outputs": [
    {
     "data": {
      "text/plain": [
       "label\n",
       "2    1066\n",
       "1     891\n",
       "3     696\n",
       "0     606\n",
       "Name: count, dtype: int64"
      ]
     },
     "execution_count": 297,
     "metadata": {},
     "output_type": "execute_result"
    }
   ],
   "source": [
    "## 统计该csv下lable列不同值的数量\n",
    "train_csv.value_counts(subset=\"label\")"
   ]
  },
  {
   "cell_type": "code",
   "execution_count": 298,
   "id": "3d370b09-9821-4109-991c-493c0954b27f",
   "metadata": {},
   "outputs": [
    {
     "data": {
      "text/plain": [
       "Text(0.5, 1.0, 'Train dataset sample distribution')"
      ]
     },
     "execution_count": 298,
     "metadata": {},
     "output_type": "execute_result"
    },
    {
     "data": {
      "image/png": "[encoded data removed]",
      "text/plain": [
       "<Figure size 640x480 with 1 Axes>"
      ]
     },
     "metadata": {},
     "output_type": "display_data"
    }
   ],
   "source": [
    "## 画图显示类别数\n",
    "plt.bar([0,1,2,3],list(train_csv.value_counts(subset=\"label\")),tick_label = [\"0\",\"1\",\"2\",\"3\"])\n",
    "plt.xlabel(\"Label\")\n",
    "plt.ylabel(\"Num\")\n",
    "plt.title(\"Train dataset sample distribution\")"
   ]
  },
  {
   "cell_type": "markdown",
   "id": "0ed34abe-0e67-425a-9062-63caa57a3f90",
   "metadata": {},
   "source": [
    "## 3、读取CSV文件、分离文件路径、文本内容、标签"
   ]
  },
  {
   "cell_type": "code",
   "execution_count": 299,
   "id": "1c77b828-131d-46af-8dfb-ef006ab58617",
   "metadata": {},
   "outputs": [],
   "source": [
    "## 读取train.csv、dev.csv\n",
    "train_csv = pd.read_csv(\"./CSVfile/train.csv\", sep = \"#\")\n",
    "dev_csv = pd.read_csv(\"./CSVfile/dev.csv\", sep = \"#\")\n",
    "## 分离文件路径、文本内容和标签\n",
    "## 训练时间较长，建议可以先截取部分样本进行代码正确性验证，再使用全部样本\n",
    "train_path = list(train_csv.path)[:1500]\n",
    "train_label = list(train_csv.label)[:1500]\n",
    "train_txt = list(train_csv.text)[:1500]\n",
    "dev_path = list(dev_csv.path)[:500]\n",
    "dev_label = list(dev_csv.label)[:500]\n",
    "dev_txt = list(dev_csv.text)[:500]\n",
    "\n",
    "# train_path = list(train_csv.path)\n",
    "# train_label = list(train_csv.label)\n",
    "# train_txt = list(train_csv.text)\n",
    "# dev_path = list(dev_csv.path)\n",
    "# dev_label = list(dev_csv.label)\n",
    "# dev_txt = list(dev_csv.text)"
   ]
  },
  {
   "cell_type": "markdown",
   "id": "cf605b1d-02c1-4170-9f20-2c1fbd2c5fa9",
   "metadata": {},
   "source": [
    "## 4、创建Data loaders"
   ]
  },
  {
   "cell_type": "code",
   "execution_count": 300,
   "id": "884d5b66-08ad-41ab-8d97-5e8bf58554fe",
   "metadata": {},
   "outputs": [
    {
     "name": "stderr",
     "output_type": "stream",
     "text": [
      "Truncation was not explicitly activated but `max_length` is provided a specific value, please use `truncation=True` to explicitly truncate examples to max length. Defaulting to 'longest_first' truncation strategy. If you encode pairs of sequences (GLUE-style) with the tokenizer you can select this strategy more precisely by providing a specific strategy to `truncation`.\n",
      "Truncation was not explicitly activated but `max_length` is provided a specific value, please use `truncation=True` to explicitly truncate examples to max length. Defaulting to 'longest_first' truncation strategy. If you encode pairs of sequences (GLUE-style) with the tokenizer you can select this strategy more precisely by providing a specific strategy to `truncation`.\n"
     ]
    },
    {
     "name": "stdout",
     "output_type": "stream",
     "text": [
      "1500 500\n"
     ]
    }
   ],
   "source": [
    "##  'input_ids' 'token_type_ids' 'attention_mask'\n",
    "train_coded_txt = text_tokenize(train_txt)\n",
    "dev_coded_txt = text_tokenize(dev_txt)\n",
    "train_dataset = TensorDataset(train_coded_txt[\"input_ids\"], \n",
    "                              train_coded_txt[\"attention_mask\"],\n",
    "                              torch.tensor(train_label))\n",
    "dev_dataset = TensorDataset(dev_coded_txt[\"input_ids\"], \n",
    "                            dev_coded_txt[\"attention_mask\"],\n",
    "                            torch.tensor(dev_label))\n",
    "print(len(train_dataset),len(dev_dataset))"
   ]
  },
  {
   "cell_type": "code",
   "execution_count": 301,
   "id": "9543205c-c791-4c6e-854b-3259fa157d08",
   "metadata": {},
   "outputs": [],
   "source": [
    "from torch.utils.data import DataLoader, RandomSampler, SequentialSampler"
   ]
  },
  {
   "cell_type": "code",
   "execution_count": 302,
   "id": "255e8a1b-4acb-4635-ad08-91d1484bfa89",
   "metadata": {},
   "outputs": [],
   "source": [
    "## 这里的batch_size 可以从1、2、4、8、16...尝试，过大的batch_size会使训练过程因为显存不足失败\n",
    "batch_size = 64\n",
    "dataloader_train = DataLoader(\n",
    "    train_dataset, sampler=RandomSampler(train_dataset), batch_size=batch_size\n",
    ")\n",
    "dataloader_dev = DataLoader(\n",
    "    dev_dataset, sampler=RandomSampler(dev_dataset), batch_size=32\n",
    ")"
   ]
  },
  {
   "cell_type": "markdown",
   "id": "162b55df-78fe-4b32-aaff-fb9884d5eb01",
   "metadata": {},
   "source": [
    "## 5、定义性能指标"
   ]
  },
  {
   "cell_type": "code",
   "execution_count": 303,
   "id": "f7bf52fb-ddab-448c-9470-a73e4ba69841",
   "metadata": {},
   "outputs": [],
   "source": [
    "import numpy as np\n",
    "from sklearn.metrics import f1_score"
   ]
  },
  {
   "cell_type": "code",
   "execution_count": 304,
   "id": "47c38fca-365c-4508-a6a3-712f612d40b3",
   "metadata": {},
   "outputs": [],
   "source": [
    "def f1_score_func(preds, labels):\n",
    "    preds_flat = np.argmax(preds, axis=1).flatten()\n",
    "    labels_flat = labels.flatten()\n",
    "    return f1_score(labels_flat, preds_flat, average='macro')"
   ]
  },
  {
   "cell_type": "code",
   "execution_count": 305,
   "id": "48d689ef-f77c-476d-b004-5a88644761db",
   "metadata": {},
   "outputs": [],
   "source": [
    "def accuracy_per_class(preds, labels):\n",
    "    label_dict_inverse = {0:\"angry\",1:\"happy or excited\",2:\"neutral\",3:\"sad\"}\n",
    "    # print(preds)\n",
    "    preds_flat = np.argmax(preds, axis=1).flatten()\n",
    "    labels_flat = labels.flatten()\n",
    "    for label in np.unique(labels_flat):\n",
    "        y_preds = preds_flat[labels_flat==label]\n",
    "        y_true = labels_flat[labels_flat==label]\n",
    "        print(f'Class: {label_dict_inverse[label]}')\n",
    "        print(f'Accuracy: {len(y_preds[y_preds==label])}/{len(y_true)}\\n')"
   ]
  },
  {
   "cell_type": "code",
   "execution_count": 306,
   "id": "76deef61-cee4-4074-ae9d-af2e6050e508",
   "metadata": {},
   "outputs": [],
   "source": [
    "from sklearn.metrics import accuracy_score, f1_score, precision_score, recall_score, confusion_matrix"
   ]
  },
  {
   "cell_type": "code",
   "execution_count": 307,
   "id": "02602577-f76d-4c08-ba66-be8feddecb16",
   "metadata": {},
   "outputs": [],
   "source": [
    "def calculate_score_classification(preds, labels, average_f1='macro'):  # weighted, macro\n",
    "    preds = np.argmax(preds, axis=1).flatten()\n",
    "    labels = labels.flatten()\n",
    "    accuracy = accuracy_score(labels, preds)\n",
    "    f1 = f1_score(labels, preds, average=average_f1, zero_division=0)\n",
    "    precision = precision_score(labels, preds, average='macro', zero_division=0)\n",
    "    ua = recall_score(labels, preds, average='macro', zero_division=0)\n",
    "    confuse_matrix = confusion_matrix(labels, preds)\n",
    "    return accuracy, ua, f1, precision, confuse_matrix"
   ]
  },
  {
   "cell_type": "markdown",
   "id": "48cb1bd0-dee0-4401-a8c7-d96c7bad44d5",
   "metadata": {},
   "source": [
    "## 6、设置模型"
   ]
  },
  {
   "cell_type": "code",
   "execution_count": 308,
   "id": "1b9e9e08-f3ad-4d2f-8de9-4e7b21f6882d",
   "metadata": {},
   "outputs": [],
   "source": [
    "from transformers import AdamW, get_linear_schedule_with_warmup"
   ]
  },
  {
   "cell_type": "code",
   "execution_count": 309,
   "id": "f920957a-b873-4047-a011-ac2c6fdc0330",
   "metadata": {},
   "outputs": [],
   "source": [
    "class MyDLmodel:\n",
    "    def __init__(self, model, device, patience=3):\n",
    "        self.device = device\n",
    "        self.patience = patience\n",
    "        self.best_f1_score = 0\n",
    "        self.early_stop_counter = 0\n",
    "\n",
    "        if torch.cuda.device_count() > 1:\n",
    "            print(f\"Using {torch.cuda.device_count()} GPUs.\")\n",
    "            self.model = torch.nn.DataParallel(model, device_ids=[0, 1])\n",
    "        else:\n",
    "            self.model = model\n",
    "\n",
    "        self.model.to(self.device)\n",
    "        self.optimizer = AdamW(\n",
    "            self.model.parameters(), lr=5e-5, eps=1e-8, weight_decay=0.05\n",
    "        )\n",
    "        self.scheduler = None\n",
    "\n",
    "    def train(self, dataloader_train, dataloader_dev, epochs):\n",
    "        for epoch in range(epochs):\n",
    "            self.model.train()\n",
    "            total_loss = 0\n",
    "            for batch in tqdm(dataloader_train, desc=f\"Epoch {epoch+1}/{epochs}\"):\n",
    "                batch = tuple(t.to(self.device) for t in batch)\n",
    "                input_ids, attention_mask, labels = batch\n",
    "\n",
    "                self.optimizer.zero_grad()\n",
    "                outputs = self.model(\n",
    "                    input_ids=input_ids, attention_mask=attention_mask, labels=labels\n",
    "                )\n",
    "\n",
    "                loss = outputs.loss.mean()\n",
    "                total_loss += loss.item()\n",
    "                loss.backward()\n",
    "                self.optimizer.step()\n",
    "\n",
    "            avg_train_loss = total_loss / len(dataloader_train)\n",
    "            print(f\"Training Loss: {avg_train_loss:.4f}\")\n",
    "\n",
    "            val_loss, val_f1 = self.evaluate(dataloader_dev)\n",
    "\n",
    "            if val_f1 > self.best_f1_score:\n",
    "                self.best_f1_score = val_f1\n",
    "                self.early_stop_counter = 0\n",
    "                torch.save(self.model.state_dict(), \"best_model.pt\")\n",
    "                print(\"F1 Score increased, saving model.\\n\")\n",
    "            else:\n",
    "                self.early_stop_counter += 1\n",
    "                print(\n",
    "                    f\"No improvement in F1 Score for {self.early_stop_counter} epoch(s).\\n\"\n",
    "                )\n",
    "                if self.early_stop_counter >= self.patience:\n",
    "                    print(\n",
    "                        f\"Early stopping triggered at F1 Score: {self.best_f1_score:.4f}\"\n",
    "                    )\n",
    "                    break\n",
    "\n",
    "    def evaluate(self, dataloader_val):\n",
    "        self.model.eval()\n",
    "        total_loss = 0\n",
    "        all_preds, all_labels = [], []\n",
    "        with torch.no_grad():\n",
    "            for batch in dataloader_val:\n",
    "                batch = tuple(t.to(self.device) for t in batch)\n",
    "                input_ids, attention_mask, labels = batch\n",
    "\n",
    "                outputs = self.model(\n",
    "                    input_ids=input_ids, attention_mask=attention_mask, labels=labels\n",
    "                )\n",
    "\n",
    "                loss = outputs.loss.mean()\n",
    "                logits = outputs.logits\n",
    "\n",
    "                total_loss += loss.item()\n",
    "                preds = torch.argmax(logits, dim=1)\n",
    "                all_preds.extend(preds.cpu().numpy())\n",
    "                all_labels.extend(labels.cpu().numpy())\n",
    "\n",
    "        avg_val_loss = total_loss / len(dataloader_val)\n",
    "        acc = accuracy_score(all_labels, all_preds)\n",
    "        f1 = f1_score(all_labels, all_preds, average=\"macro\")\n",
    "        print(\n",
    "            f\"Validation Loss: {avg_val_loss:.4f}, Accuracy: {acc:.4f}, F1 Score: {f1:.4f}\"\n",
    "        )\n",
    "\n",
    "        return avg_val_loss, f1\n",
    "\n",
    "    def predict(self, dataloader_test):\n",
    "        self.model.eval()\n",
    "        try:\n",
    "            self.model.load_state_dict(torch.load(\"best_model.pt\"))\n",
    "            print(\"Loaded best model for prediction.\")\n",
    "        except:\n",
    "            print(\"No saved model found, using current model for prediction.\")\n",
    "\n",
    "        all_preds = []\n",
    "        with torch.no_grad():\n",
    "            for batch in dataloader_test:\n",
    "                batch = tuple(t.to(self.device) for t in batch)\n",
    "                input_ids, attention_mask = batch\n",
    "\n",
    "                outputs = self.model(input_ids=input_ids, attention_mask=attention_mask)\n",
    "                logits = outputs.logits\n",
    "                preds = torch.argmax(logits, dim=1)\n",
    "                all_preds.extend(preds.cpu().numpy())\n",
    "\n",
    "        return all_preds"
   ]
  },
  {
   "cell_type": "code",
   "execution_count": 310,
   "id": "fec75a77-4152-49ab-9cc4-4433fdbacd69",
   "metadata": {},
   "outputs": [],
   "source": [
    "import random\n",
    "## 设置随机种子\n",
    "def set_seeds(seed_val):\n",
    "    random.seed(seed_val)\n",
    "    np.random.seed(seed_val)\n",
    "    torch.manual_seed(seed_val)\n",
    "    torch.cuda.manual_seed_all(seed_val)"
   ]
  },
  {
   "cell_type": "code",
   "execution_count": 311,
   "id": "af464655-26d5-43e1-89a0-29bda65bf7d3",
   "metadata": {},
   "outputs": [],
   "source": [
    "## test_preds 长度为1241的list，对应测试集中1241个样本的标签\n",
    "##运行后会在当前目录生成result.csv文件，提交result.csv文件即可\n",
    "##如果没有生成，请检查test_preds的长度是否为1241！\n",
    "def write_result(test_preds):\n",
    "    if len(test_preds) != 1241:\n",
    "        print(\"错误！请检查test_preds长度是否为1241！！！\")\n",
    "        return -1\n",
    "    test_csv = pd.read_csv(\"./CSVfile/test.csv\",sep=\"#\")\n",
    "    test_csv[\"label\"] = test_preds\n",
    "    test_csv.to_csv(\"./result.csv\",sep = \"#\")\n",
    "    print(\"测试集预测结果已成功写入到文件中！\")"
   ]
  },
  {
   "cell_type": "code",
   "execution_count": 312,
   "id": "6cefe5b8-71e0-4a1a-bdae-a6673b02edf7",
   "metadata": {},
   "outputs": [],
   "source": [
    "from transformers import BertForSequenceClassification"
   ]
  },
  {
   "cell_type": "code",
   "execution_count": 313,
   "id": "3f388d7c-9451-462b-8fac-6c49ee431ec5",
   "metadata": {},
   "outputs": [
    {
     "name": "stderr",
     "output_type": "stream",
     "text": [
      "Some weights of BertForSequenceClassification were not initialized from the model checkpoint at ./bert-base-uncased and are newly initialized: ['classifier.bias', 'classifier.weight']\n",
      "You should probably TRAIN this model on a down-stream task to be able to use it for predictions and inference.\n"
     ]
    },
    {
     "name": "stdout",
     "output_type": "stream",
     "text": [
      "cuda\n",
      "Using 2 GPUs.\n"
     ]
    },
    {
     "name": "stderr",
     "output_type": "stream",
     "text": [
      "Epoch 1/15: 100%|██████████| 24/24 [00:12<00:00,  1.86it/s]\n"
     ]
    },
    {
     "name": "stdout",
     "output_type": "stream",
     "text": [
      "Training Loss: 1.2388\n",
      "Validation Loss: 1.2513, Accuracy: 0.4300, F1 Score: 0.3996\n",
      "F1 Score increased, saving model.\n",
      "\n"
     ]
    },
    {
     "name": "stderr",
     "output_type": "stream",
     "text": [
      "Epoch 2/15: 100%|██████████| 24/24 [00:12<00:00,  1.86it/s]\n"
     ]
    },
    {
     "name": "stdout",
     "output_type": "stream",
     "text": [
      "Training Loss: 0.8841\n",
      "Validation Loss: 1.2371, Accuracy: 0.5220, F1 Score: 0.5173\n",
      "F1 Score increased, saving model.\n",
      "\n"
     ]
    },
    {
     "name": "stderr",
     "output_type": "stream",
     "text": [
      "Epoch 3/15: 100%|██████████| 24/24 [00:13<00:00,  1.83it/s]\n"
     ]
    },
    {
     "name": "stdout",
     "output_type": "stream",
     "text": [
      "Training Loss: 0.5713\n",
      "Validation Loss: 1.1102, Accuracy: 0.6140, F1 Score: 0.6158\n",
      "F1 Score increased, saving model.\n",
      "\n"
     ]
    },
    {
     "name": "stderr",
     "output_type": "stream",
     "text": [
      "Epoch 4/15: 100%|██████████| 24/24 [00:12<00:00,  1.86it/s]\n"
     ]
    },
    {
     "name": "stdout",
     "output_type": "stream",
     "text": [
      "Training Loss: 0.3301\n",
      "Validation Loss: 1.1426, Accuracy: 0.6040, F1 Score: 0.5980\n",
      "No improvement in F1 Score for 1 epoch(s).\n",
      "\n"
     ]
    },
    {
     "name": "stderr",
     "output_type": "stream",
     "text": [
      "Epoch 5/15: 100%|██████████| 24/24 [00:12<00:00,  1.85it/s]\n"
     ]
    },
    {
     "name": "stdout",
     "output_type": "stream",
     "text": [
      "Training Loss: 0.2289\n",
      "Validation Loss: 1.3522, Accuracy: 0.6080, F1 Score: 0.6023\n",
      "No improvement in F1 Score for 2 epoch(s).\n",
      "\n"
     ]
    },
    {
     "name": "stderr",
     "output_type": "stream",
     "text": [
      "Epoch 6/15: 100%|██████████| 24/24 [00:12<00:00,  1.85it/s]\n"
     ]
    },
    {
     "name": "stdout",
     "output_type": "stream",
     "text": [
      "Training Loss: 0.1703\n",
      "Validation Loss: 1.4373, Accuracy: 0.6240, F1 Score: 0.6285\n",
      "F1 Score increased, saving model.\n",
      "\n"
     ]
    },
    {
     "name": "stderr",
     "output_type": "stream",
     "text": [
      "Epoch 7/15: 100%|██████████| 24/24 [00:13<00:00,  1.81it/s]\n"
     ]
    },
    {
     "name": "stdout",
     "output_type": "stream",
     "text": [
      "Training Loss: 0.1391\n",
      "Validation Loss: 1.3443, Accuracy: 0.6420, F1 Score: 0.6319\n",
      "F1 Score increased, saving model.\n",
      "\n"
     ]
    },
    {
     "name": "stderr",
     "output_type": "stream",
     "text": [
      "Epoch 8/15: 100%|██████████| 24/24 [00:12<00:00,  1.85it/s]\n"
     ]
    },
    {
     "name": "stdout",
     "output_type": "stream",
     "text": [
      "Training Loss: 0.1218\n",
      "Validation Loss: 1.3085, Accuracy: 0.6500, F1 Score: 0.6400\n",
      "F1 Score increased, saving model.\n",
      "\n"
     ]
    },
    {
     "name": "stderr",
     "output_type": "stream",
     "text": [
      "Epoch 9/15: 100%|██████████| 24/24 [00:12<00:00,  1.86it/s]\n"
     ]
    },
    {
     "name": "stdout",
     "output_type": "stream",
     "text": [
      "Training Loss: 0.0986\n",
      "Validation Loss: 1.5060, Accuracy: 0.6420, F1 Score: 0.6420\n",
      "F1 Score increased, saving model.\n",
      "\n"
     ]
    },
    {
     "name": "stderr",
     "output_type": "stream",
     "text": [
      "Epoch 10/15: 100%|██████████| 24/24 [00:12<00:00,  1.86it/s]\n"
     ]
    },
    {
     "name": "stdout",
     "output_type": "stream",
     "text": [
      "Training Loss: 0.0948\n",
      "Validation Loss: 1.4932, Accuracy: 0.6320, F1 Score: 0.6277\n",
      "No improvement in F1 Score for 1 epoch(s).\n",
      "\n"
     ]
    },
    {
     "name": "stderr",
     "output_type": "stream",
     "text": [
      "Epoch 11/15: 100%|██████████| 24/24 [00:13<00:00,  1.82it/s]\n"
     ]
    },
    {
     "name": "stdout",
     "output_type": "stream",
     "text": [
      "Training Loss: 0.0918\n",
      "Validation Loss: 1.5832, Accuracy: 0.6500, F1 Score: 0.6357\n",
      "No improvement in F1 Score for 2 epoch(s).\n",
      "\n"
     ]
    },
    {
     "name": "stderr",
     "output_type": "stream",
     "text": [
      "Epoch 12/15: 100%|██████████| 24/24 [00:12<00:00,  1.86it/s]\n"
     ]
    },
    {
     "name": "stdout",
     "output_type": "stream",
     "text": [
      "Training Loss: 0.0961\n",
      "Validation Loss: 1.6818, Accuracy: 0.6060, F1 Score: 0.6027\n",
      "No improvement in F1 Score for 3 epoch(s).\n",
      "\n",
      "Early stopping triggered at F1 Score: 0.6420\n"
     ]
    }
   ],
   "source": [
    "# model reference： https://huggingface.co/docs/transformers/main/en/model_doc/bert#transformers.BertForSequenceClassification\n",
    "set_seeds(17)\n",
    "pretrained_model = pretrained_model = BertForSequenceClassification.from_pretrained(\n",
    "    \"./bert-base-uncased\",\n",
    "    num_labels=4,\n",
    "    output_attentions=False,\n",
    "    output_hidden_states=False,\n",
    ")\n",
    "device = torch.device(\"cuda\" if torch.cuda.is_available() else \"cpu\")\n",
    "print(device)\n",
    "mymodel = MyDLmodel(pretrained_model, device)\n",
    "epochs = 15\n",
    "mymodel.train(dataloader_train, dataloader_dev, epochs)"
   ]
  },
  {
   "cell_type": "code",
   "execution_count": 314,
   "id": "dea31408-75f8-4e1f-bf0a-dde019047b1c",
   "metadata": {},
   "outputs": [],
   "source": [
    "# ## 预测测试集标签\n",
    "# test_csv = pd.read_csv(\"./CSVfile/test.csv\",sep = \"#\")\n",
    "# test_text = list(test_csv.text)\n",
    "# test_coded_txt = text_tokenize(test_text)\n",
    "# test_dataset = TensorDataset(\n",
    "#     test_coded_txt[\"input_ids\"], \n",
    "#     test_coded_txt[\"attention_mask\"])\n",
    "# dataloader_test = DataLoader(\n",
    "#     test_dataset,\n",
    "#     sampler=RandomSampler(test_dataset),\n",
    "#     batch_size=32)\n",
    "# test_preds = mymodel.predict(dataloader_test)\n",
    "# ## 写入预测结果\n",
    "# write_result(test_preds)"
   ]
  }
 ],
 "metadata": {
  "kernelspec": {
   "display_name": "lhy",
   "language": "python",
   "name": "python3"
  },
  "language_info": {
   "codemirror_mode": {
    "name": "ipython",
    "version": 3
   },
   "file_extension": ".py",
   "mimetype": "text/x-python",
   "name": "python",
   "nbconvert_exporter": "python",
   "pygments_lexer": "ipython3",
   "version": "3.8.20"
  }
 },
 "nbformat": 4,
 "nbformat_minor": 5
}
