{
 "cells": [
  {
   "cell_type": "markdown",
   "id": "8c9fda4c-4d10-44b0-86d9-0187ae18ed6a",
   "metadata": {},
   "source": [
    "### 使用opensmile提取音频特征"
   ]
  },
  {
   "cell_type": "code",
   "execution_count": null,
   "id": "3061bfb7-790b-40e4-84a5-21777e581d49",
   "metadata": {},
   "outputs": [],
   "source": [
    "import opensmile\n",
    "import pandas as pd\n",
    "import os\n",
    "import sklearn\n",
    "import matplotlib.pyplot as plt\n",
    "import numpy as np"
   ]
  },
  {
   "cell_type": "markdown",
   "id": "1b3d66b3-1655-4c09-90fb-7c45cb291a4c",
   "metadata": {},
   "source": [
    "## 1、构造特征提取函数"
   ]
  },
  {
   "cell_type": "code",
   "execution_count": null,
   "id": "037185c3-14fb-48b7-894e-8870d1786124",
   "metadata": {},
   "outputs": [],
   "source": [
    "## 提取特征函数\n",
    "## file_list:音频文件路径的列表  list类型\n",
    "## 返回值numpy.ndarray  形状:(len(file_list),88)\n",
    "def extract_audio_feature(file_list):\n",
    "    print(\"请耐心等待特征提取完！\")\n",
    "    smile = opensmile.Smile(\n",
    "    feature_set=opensmile.FeatureSet.eGeMAPSv02,\n",
    "    feature_level=opensmile.FeatureLevel.Functionals)\n",
    "    feature = []\n",
    "    for n,file in enumerate(file_list):\n",
    "        y = smile.process_file(file)\n",
    "        y = y.to_numpy().reshape(-1)\n",
    "        feature.append(y)\n",
    "        if (n+1)%100 == 0:\n",
    "            print(f\"当前进度{n+1}/{len(file_list)}\")\n",
    "    print(\"此次特征提取已结束\")\n",
    "    print(\"-------------------------------\")\n",
    "    feature = np.stack(feature,axis = 0)\n",
    "    return feature"
   ]
  },
  {
   "cell_type": "code",
   "execution_count": null,
   "id": "52c093c8-ffc1-4c3c-ac38-5cdb0f52ba18",
   "metadata": {},
   "outputs": [],
   "source": [
    "## 特征提取示例\n",
    "file = \"./train/Ses01F_impro01_F000.wav\"\n",
    "audio_feature = extract_audio_feature([file])\n",
    "print(type(audio_feature),audio_feature.shape)"
   ]
  },
  {
   "cell_type": "markdown",
   "id": "6b942c23-9f97-48a5-9c04-395639fd3a66",
   "metadata": {},
   "source": [
    "## 2、csv文件读入示例"
   ]
  },
  {
   "cell_type": "code",
   "execution_count": null,
   "id": "2996d3bc-d357-4668-a624-a76d3f4fe372",
   "metadata": {},
   "outputs": [],
   "source": [
    "## 读入csv文件示例\n",
    "## 由于我们的csv文件使用\"#\"分隔，需要定义sep参数为\"#\",否则会读取失败！！！\n",
    "train_csv = pd.read_csv(\"./CSVfile/train.csv\",sep=\"#\")"
   ]
  },
  {
   "cell_type": "code",
   "execution_count": null,
   "id": "743c4b1c-beb9-4802-8ad4-eaff49fa7f39",
   "metadata": {},
   "outputs": [],
   "source": [
    "## 快速查看前5条数据\n",
    "train_csv.head(5)"
   ]
  },
  {
   "cell_type": "code",
   "execution_count": null,
   "id": "b5ab3872-3da8-4f5f-9331-b72a4ddbd472",
   "metadata": {},
   "outputs": [],
   "source": [
    "## 统计该csv下lable列不同值的数量\n",
    "train_csv.value_counts(subset=\"label\")"
   ]
  },
  {
   "cell_type": "code",
   "execution_count": null,
   "id": "3d370b09-9821-4109-991c-493c0954b27f",
   "metadata": {},
   "outputs": [],
   "source": [
    "## 画图显示类别数\n",
    "plt.bar([0,1,2,3],list(train_csv.value_counts(subset=\"label\")),tick_label = [\"0\",\"1\",\"2\",\"3\"])\n",
    "plt.xlabel(\"Label\")\n",
    "plt.ylabel(\"Num\")\n",
    "plt.title(\"Train dataset sample distribution\")"
   ]
  },
  {
   "cell_type": "markdown",
   "id": "0e484248-1338-44b6-87d4-75220e0a6f3f",
   "metadata": {},
   "source": [
    "## 3、性能指标函数"
   ]
  },
  {
   "cell_type": "code",
   "execution_count": null,
   "id": "26ee6440-0f98-4edd-874e-a21f56be1d7f",
   "metadata": {},
   "outputs": [],
   "source": [
    "from sklearn.metrics import accuracy_score, f1_score, precision_score, recall_score, confusion_matrix"
   ]
  },
  {
   "cell_type": "code",
   "execution_count": null,
   "id": "6f5bf921-2d72-4144-bdc1-e4cde8fbd009",
   "metadata": {},
   "outputs": [],
   "source": [
    "def calculate_score_classification(preds, labels, average_f1='macro'):  # weighted, macro\n",
    "    accuracy = accuracy_score(labels, preds)\n",
    "    f1 = f1_score(labels, preds, average=average_f1, zero_division=0)\n",
    "    precision = precision_score(labels, preds, average='macro', zero_division=0)\n",
    "    ua = recall_score(labels, preds, average='macro', zero_division=0)\n",
    "    confuse_matrix = confusion_matrix(labels, preds)\n",
    "    return accuracy, ua, f1, precision, confuse_matrix"
   ]
  },
  {
   "cell_type": "markdown",
   "id": "56698ac9-01ae-4e00-8dc4-62e69d12fad8",
   "metadata": {},
   "source": [
    "### 4、构造机器学习模型"
   ]
  },
  {
   "cell_type": "code",
   "execution_count": null,
   "id": "36e664f2-00f8-444a-aecd-60e92b3462ed",
   "metadata": {},
   "outputs": [],
   "source": [
    "##使用sklearn实现随机森林\n",
    "from sklearn.ensemble import RandomForestClassifier\n",
    "from sklearn.metrics import accuracy_score\n",
    "## 这里的myrf类仅为示例，可以自行修改以达到更好的性能\n",
    "class MyRF:\n",
    "    def __init__(self):\n",
    "        pass\n",
    "    def train(self):\n",
    "        pass\n",
    "    def evaluate(self):\n",
    "        pass\n",
    "        "
   ]
  },
  {
   "cell_type": "markdown",
   "id": "c9455c40-5fbb-4246-be20-f34e6110ac3a",
   "metadata": {},
   "source": [
    "## 5、读取csv文件，分离音频文件路径、标签"
   ]
  },
  {
   "cell_type": "code",
   "execution_count": null,
   "id": "8b93e714-a3c8-4185-9129-377a8001a14a",
   "metadata": {},
   "outputs": [],
   "source": [
    "## 读取train.csv、dev.csv\n",
    "train_csv = pd.read_csv(\"./CSVfile/train.csv\", sep = \"#\")\n",
    "dev_csv = pd.read_csv(\"./CSVfile/dev.csv\", sep = \"#\")\n",
    "## 分离文件路径和标签\n",
    "## 可先截取少量样本验证代码正确性，再使用所有样本\n",
    "# train_path = list(train_csv.path)[:100]\n",
    "# train_label = list(train_csv.label)[:100]\n",
    "# dev_path = list(dev_csv.path)[:50]\n",
    "# dev_label = list(dev_csv.label)[:50]\n",
    "\n",
    "train_path = list(train_csv.path)\n",
    "train_label = list(train_csv.label)\n",
    "dev_path = list(dev_csv.path)\n",
    "dev_label = list(dev_csv.label)"
   ]
  },
  {
   "cell_type": "markdown",
   "id": "21e94ff3-cfe9-46e4-bdc3-68d2c71e67a1",
   "metadata": {},
   "source": [
    "## 6、结果写入函数"
   ]
  },
  {
   "cell_type": "code",
   "execution_count": null,
   "id": "080fa340-a9ca-48ff-abec-187b4a65dfe7",
   "metadata": {},
   "outputs": [],
   "source": [
    "## test_preds 长度为1241的list，对应测试集中1241个样本的标签\n",
    "##运行后会在当前目录生成result.csv文件，提交result.csv文件即可\n",
    "##如果没有生成，请检查test_preds的长度是否为1241！\n",
    "def write_result(test_preds):\n",
    "    if len(test_preds) != 1241:\n",
    "        print(\"错误！请检查test_preds长度是否为1241！！！\")\n",
    "        return -1\n",
    "    test_csv = pd.read_csv(\"./CSVfile/test.csv\",sep=\"#\")\n",
    "    test_csv[\"label\"] = test_preds\n",
    "    test_csv.to_csv(\"./result.csv\",sep = \"#\")\n",
    "    print(\"测试集预测结果已成功写入到文件中！\")"
   ]
  },
  {
   "cell_type": "markdown",
   "id": "70446b3a-cc68-422c-9d2c-afea8df57fb8",
   "metadata": {},
   "source": [
    "## 7、特征预处理函数、主函数"
   ]
  },
  {
   "cell_type": "code",
   "execution_count": null,
   "id": "b89011cb-de51-47da-9043-7b3371877d03",
   "metadata": {},
   "outputs": [],
   "source": [
    "## 特征处理函数，可以对提取的特征进行处理，以获得更好的特征表示\n",
    "def feature_process(feature):\n",
    "    return feature\n",
    "\n",
    "## 主函数\n",
    "if __name__ == \"__main__\":\n",
    "    ## 实例化模型\n",
    "    rf = MyRF()\n",
    "    ## 提取训练样本特征\n",
    "    ## 文件数量很多时需要的时间较长，请耐心等待\n",
    "    train_feature = extract_audio_feature(train_path) ## np.array (n,88)\n",
    "    train_feature = feature_process(train_feature)\n",
    "    \n",
    "    ##训练模型\n",
    "    rf.train(train_feature,train_label)\n",
    "    ##计算在dev上的性能\n",
    "    dev_feature = extract_audio_feature(dev_path)\n",
    "    dev_feature = feature_process(dev_feature)\n",
    "    acc,ua,f1,pre,confuse_matrix = rf.evaluate(dev_feature,np.array(dev_label))\n",
    "    print(f\"Acc:{acc} \\nUa:{ua} \\nMacro_F1:{f1} \\nPre:{pre}\\nConfuse_matrix:\\n{confuse_matrix}\")\n",
    "    \n",
    "    ##读入test.csv\n",
    "    test_csv = pd.read_csv(\"./CSVfile/test.csv\",sep = \"#\")\n",
    "    test_path = list(test_csv.path)\n",
    "    test_feature = extract_audio_feature(test_path)\n",
    "    test_label = rf.model.predict(test_feature)\n",
    "    test_preds = test_label\n",
    "    print(len(test_feature))\n",
    "    \n",
    "    ## 通过模型获得测试集对应的标签列表test_preds，并写入到result.csv文件中\n",
    "    write_result(test_preds)"
   ]
  },
  {
   "cell_type": "code",
   "execution_count": null,
   "id": "2add4368-4312-4972-a6f7-fdea31f31d8e",
   "metadata": {},
   "outputs": [],
   "source": []
  }
 ],
 "metadata": {
  "kernelspec": {
   "display_name": "Python 3 (ipykernel)",
   "language": "python",
   "name": "python3"
  },
  "language_info": {
   "codemirror_mode": {
    "name": "ipython",
    "version": 3
   },
   "file_extension": ".py",
   "mimetype": "text/x-python",
   "name": "python",
   "nbconvert_exporter": "python",
   "pygments_lexer": "ipython3",
   "version": "3.8.19"
  }
 },
 "nbformat": 4,
 "nbformat_minor": 5
}
