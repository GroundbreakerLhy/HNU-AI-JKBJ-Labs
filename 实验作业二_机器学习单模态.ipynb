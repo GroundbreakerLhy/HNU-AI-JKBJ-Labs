{
 "cells": [
  {
   "cell_type": "markdown",
   "id": "8c9fda4c-4d10-44b0-86d9-0187ae18ed6a",
   "metadata": {},
   "source": [
    "### 使用opensmile提取音频特征"
   ]
  },
  {
   "cell_type": "code",
   "execution_count": 1,
   "id": "3061bfb7-790b-40e4-84a5-21777e581d49",
   "metadata": {},
   "outputs": [],
   "source": [
    "import opensmile\n",
    "import pandas as pd\n",
    "import os\n",
    "import sklearn\n",
    "import matplotlib.pyplot as plt\n",
    "import numpy as np\n",
    "from tqdm import tqdm"
   ]
  },
  {
   "cell_type": "code",
   "execution_count": 2,
   "id": "24f9afaf",
   "metadata": {},
   "outputs": [
    {
     "name": "stderr",
     "output_type": "stream",
     "text": [
      "Intel(R) Extension for Scikit-learn* enabled (https://github.com/intel/scikit-learn-intelex)\n"
     ]
    }
   ],
   "source": [
    "from sklearnex import patch_sklearn\n",
    "patch_sklearn()"
   ]
  },
  {
   "cell_type": "markdown",
   "id": "1b3d66b3-1655-4c09-90fb-7c45cb291a4c",
   "metadata": {},
   "source": [
    "## 1、构造特征提取函数"
   ]
  },
  {
   "cell_type": "code",
   "execution_count": 3,
   "id": "037185c3-14fb-48b7-894e-8870d1786124",
   "metadata": {},
   "outputs": [],
   "source": [
    "from tqdm import tqdm\n",
    "\n",
    "## 提取特征函数\n",
    "## file_list:音频文件路径的列表  list类型\n",
    "## 返回值numpy.ndarray  形状:(len(file_list),88)\n",
    "def extract_audio_feature(file_list):\n",
    "    smile = opensmile.Smile(\n",
    "        feature_set=opensmile.FeatureSet.eGeMAPSv02,\n",
    "        feature_level=opensmile.FeatureLevel.Functionals)\n",
    "    feature = []\n",
    "    for file in tqdm(file_list, desc=\"Extracting features\"):\n",
    "        y = smile.process_file(file)\n",
    "        y = y.to_numpy().reshape(-1)\n",
    "        feature.append(y)\n",
    "    print(\"-------------------------------\")\n",
    "    feature = np.stack(feature, axis=0)\n",
    "    return feature\n"
   ]
  },
  {
   "cell_type": "code",
   "execution_count": 4,
   "id": "52c093c8-ffc1-4c3c-ac38-5cdb0f52ba18",
   "metadata": {},
   "outputs": [
    {
     "name": "stderr",
     "output_type": "stream",
     "text": [
      "Extracting features: 100%|██████████| 1/1 [00:00<00:00,  7.97it/s]"
     ]
    },
    {
     "name": "stdout",
     "output_type": "stream",
     "text": [
      "-------------------------------\n",
      "<class 'numpy.ndarray'> (1, 88)\n"
     ]
    },
    {
     "name": "stderr",
     "output_type": "stream",
     "text": [
      "\n"
     ]
    }
   ],
   "source": [
    "## 特征提取示例\n",
    "file = \"./train/Ses01F_impro01_F000.wav\"\n",
    "audio_feature = extract_audio_feature([file])\n",
    "print(type(audio_feature),audio_feature.shape)"
   ]
  },
  {
   "cell_type": "markdown",
   "id": "6b942c23-9f97-48a5-9c04-395639fd3a66",
   "metadata": {},
   "source": [
    "## 2、csv文件读入示例"
   ]
  },
  {
   "cell_type": "code",
   "execution_count": 5,
   "id": "2996d3bc-d357-4668-a624-a76d3f4fe372",
   "metadata": {},
   "outputs": [],
   "source": [
    "## 读入csv文件示例\n",
    "## 由于我们的csv文件使用\"#\"分隔，需要定义sep参数为\"#\",否则会读取失败！！！\n",
    "train_csv = pd.read_csv(\"./CSVfile/train.csv\",sep=\"#\")"
   ]
  },
  {
   "cell_type": "code",
   "execution_count": 6,
   "id": "743c4b1c-beb9-4802-8ad4-eaff49fa7f39",
   "metadata": {},
   "outputs": [
    {
     "data": {
      "text/html": [
       "<div>\n",
       "<style scoped>\n",
       "    .dataframe tbody tr th:only-of-type {\n",
       "        vertical-align: middle;\n",
       "    }\n",
       "\n",
       "    .dataframe tbody tr th {\n",
       "        vertical-align: top;\n",
       "    }\n",
       "\n",
       "    .dataframe thead th {\n",
       "        text-align: right;\n",
       "    }\n",
       "</style>\n",
       "<table border=\"1\" class=\"dataframe\">\n",
       "  <thead>\n",
       "    <tr style=\"text-align: right;\">\n",
       "      <th></th>\n",
       "      <th>num</th>\n",
       "      <th>id</th>\n",
       "      <th>path</th>\n",
       "      <th>text</th>\n",
       "      <th>label</th>\n",
       "    </tr>\n",
       "  </thead>\n",
       "  <tbody>\n",
       "    <tr>\n",
       "      <th>0</th>\n",
       "      <td>1</td>\n",
       "      <td>Ses01F_impro01_F000</td>\n",
       "      <td>train/Ses01F_impro01_F000.wav</td>\n",
       "      <td>Excuse me.</td>\n",
       "      <td>2</td>\n",
       "    </tr>\n",
       "    <tr>\n",
       "      <th>1</th>\n",
       "      <td>2</td>\n",
       "      <td>Ses01F_impro01_F001</td>\n",
       "      <td>train/Ses01F_impro01_F001.wav</td>\n",
       "      <td>Yeah.</td>\n",
       "      <td>2</td>\n",
       "    </tr>\n",
       "    <tr>\n",
       "      <th>2</th>\n",
       "      <td>3</td>\n",
       "      <td>Ses01F_impro01_F002</td>\n",
       "      <td>train/Ses01F_impro01_F002.wav</td>\n",
       "      <td>Is there a problem?</td>\n",
       "      <td>2</td>\n",
       "    </tr>\n",
       "    <tr>\n",
       "      <th>3</th>\n",
       "      <td>4</td>\n",
       "      <td>Ses01F_impro01_F005</td>\n",
       "      <td>train/Ses01F_impro01_F005.wav</td>\n",
       "      <td>Well what's the problem?  Let me change it.</td>\n",
       "      <td>2</td>\n",
       "    </tr>\n",
       "    <tr>\n",
       "      <th>4</th>\n",
       "      <td>5</td>\n",
       "      <td>Ses01F_impro01_F012</td>\n",
       "      <td>train/Ses01F_impro01_F012.wav</td>\n",
       "      <td>That's out of control.</td>\n",
       "      <td>0</td>\n",
       "    </tr>\n",
       "  </tbody>\n",
       "</table>\n",
       "</div>"
      ],
      "text/plain": [
       "   num                   id                           path  \\\n",
       "0    1  Ses01F_impro01_F000  train/Ses01F_impro01_F000.wav   \n",
       "1    2  Ses01F_impro01_F001  train/Ses01F_impro01_F001.wav   \n",
       "2    3  Ses01F_impro01_F002  train/Ses01F_impro01_F002.wav   \n",
       "3    4  Ses01F_impro01_F005  train/Ses01F_impro01_F005.wav   \n",
       "4    5  Ses01F_impro01_F012  train/Ses01F_impro01_F012.wav   \n",
       "\n",
       "                                          text  label  \n",
       "0                                   Excuse me.      2  \n",
       "1                                        Yeah.      2  \n",
       "2                          Is there a problem?      2  \n",
       "3  Well what's the problem?  Let me change it.      2  \n",
       "4                       That's out of control.      0  "
      ]
     },
     "execution_count": 6,
     "metadata": {},
     "output_type": "execute_result"
    }
   ],
   "source": [
    "## 快速查看前5条数据\n",
    "train_csv.head(5)"
   ]
  },
  {
   "cell_type": "code",
   "execution_count": 7,
   "id": "b5ab3872-3da8-4f5f-9331-b72a4ddbd472",
   "metadata": {},
   "outputs": [
    {
     "data": {
      "text/plain": [
       "label\n",
       "2    1066\n",
       "1     891\n",
       "3     696\n",
       "0     606\n",
       "Name: count, dtype: int64"
      ]
     },
     "execution_count": 7,
     "metadata": {},
     "output_type": "execute_result"
    }
   ],
   "source": [
    "## 统计该csv下lable列不同值的数量\n",
    "train_csv.value_counts(subset=\"label\")"
   ]
  },
  {
   "cell_type": "code",
   "execution_count": 8,
   "id": "3d370b09-9821-4109-991c-493c0954b27f",
   "metadata": {},
   "outputs": [
    {
     "data": {
      "text/plain": [
       "Text(0.5, 1.0, 'Train dataset sample distribution')"
      ]
     },
     "execution_count": 8,
     "metadata": {},
     "output_type": "execute_result"
    },
    {
     "data": {
      "image/png": "[encoded data removed]",
      "text/plain": [
       "<Figure size 640x480 with 1 Axes>"
      ]
     },
     "metadata": {},
     "output_type": "display_data"
    }
   ],
   "source": [
    "## 画图显示类别数\n",
    "plt.bar([0,1,2,3],list(train_csv.value_counts(subset=\"label\")),tick_label = [\"0\",\"1\",\"2\",\"3\"])\n",
    "plt.xlabel(\"Label\")\n",
    "plt.ylabel(\"Num\")\n",
    "plt.title(\"Train dataset sample distribution\")"
   ]
  },
  {
   "cell_type": "markdown",
   "id": "0e484248-1338-44b6-87d4-75220e0a6f3f",
   "metadata": {},
   "source": [
    "## 3、性能指标函数"
   ]
  },
  {
   "cell_type": "code",
   "execution_count": 9,
   "id": "26ee6440-0f98-4edd-874e-a21f56be1d7f",
   "metadata": {},
   "outputs": [],
   "source": [
    "from sklearn.metrics import accuracy_score, f1_score, precision_score, recall_score, confusion_matrix"
   ]
  },
  {
   "cell_type": "code",
   "execution_count": 10,
   "id": "6f5bf921-2d72-4144-bdc1-e4cde8fbd009",
   "metadata": {},
   "outputs": [],
   "source": [
    "def calculate_score_classification(preds, labels, average_f1='macro'):  # weighted, macro\n",
    "    accuracy = accuracy_score(labels, preds)\n",
    "    f1 = f1_score(labels, preds, average=average_f1, zero_division=0)\n",
    "    precision = precision_score(labels, preds, average='macro', zero_division=0)\n",
    "    ua = recall_score(labels, preds, average='macro', zero_division=0)\n",
    "    confuse_matrix = confusion_matrix(labels, preds)\n",
    "    return accuracy, ua, f1, precision, confuse_matrix"
   ]
  },
  {
   "cell_type": "markdown",
   "id": "56698ac9-01ae-4e00-8dc4-62e69d12fad8",
   "metadata": {},
   "source": [
    "### 4、构造机器学习模型"
   ]
  },
  {
   "cell_type": "code",
   "execution_count": 11,
   "id": "36e664f2-00f8-444a-aecd-60e92b3462ed",
   "metadata": {},
   "outputs": [],
   "source": [
    "# ##使用sklearn实现随机森林\n",
    "# from sklearn.ensemble import RandomForestClassifier\n",
    "# from sklearn.metrics import accuracy_score\n",
    "# ## 这里的myrf类仅为示例，可以自行修改以达到更好的性能\n",
    "# class MyRF:\n",
    "#     def __init__(self, **kwargs):\n",
    "#         self.clf = RandomForestClassifier(**kwargs)\n",
    "#     def train(self, X, y):\n",
    "#         self.clf.fit(X, y)\n",
    "#     def predict(self, X):\n",
    "#         return self.clf.predict(X)\n",
    "#     def evaluate(self, X, y):\n",
    "#         acc, ua, f1, precision, confuse_matrix = calculate_score_classification(self.predict(X), y)\n",
    "#         return acc, ua, f1, precision, confuse_matrix"
   ]
  },
  {
   "cell_type": "code",
   "execution_count": 12,
   "id": "28c6d3d1",
   "metadata": {},
   "outputs": [],
   "source": [
    "from lightgbm import LGBMClassifier\n",
    "\n",
    "class MyLGBM:\n",
    "    def __init__(self, **kwargs):\n",
    "        self.clf = LGBMClassifier(**kwargs)\n",
    "    def fit(self, X, y):\n",
    "        self.clf.fit(X, y)\n",
    "    def predict(self, X):\n",
    "        return self.clf.predict(X)\n",
    "    def evaluate(self, X, y):\n",
    "        acc, ua, f1, precision, confuse_matrix = calculate_score_classification(self.predict(X), y)\n",
    "        return acc, ua, f1, precision, confuse_matrix"
   ]
  },
  {
   "cell_type": "markdown",
   "id": "c9455c40-5fbb-4246-be20-f34e6110ac3a",
   "metadata": {},
   "source": [
    "## 5、读取csv文件，分离音频文件路径、标签"
   ]
  },
  {
   "cell_type": "code",
   "execution_count": 13,
   "id": "8b93e714-a3c8-4185-9129-377a8001a14a",
   "metadata": {},
   "outputs": [],
   "source": [
    "## 读取train.csv、dev.csv\n",
    "train_csv = pd.read_csv(\"./CSVfile/train.csv\", sep = \"#\")\n",
    "dev_csv = pd.read_csv(\"./CSVfile/dev.csv\", sep = \"#\")\n",
    "## 分离文件路径和标签\n",
    "## 可先截取少量样本验证代码正确性，再使用所有样本\n",
    "# train_path = list(train_csv.path)[:100]\n",
    "# train_label = list(train_csv.label)[:100]\n",
    "# dev_path = list(dev_csv.path)[:50]\n",
    "# dev_label = list(dev_csv.label)[:50]\n",
    "\n",
    "train_path = list(train_csv.path)\n",
    "train_label = list(train_csv.label)\n",
    "dev_path = list(dev_csv.path)\n",
    "dev_label = list(dev_csv.label)"
   ]
  },
  {
   "cell_type": "markdown",
   "id": "21e94ff3-cfe9-46e4-bdc3-68d2c71e67a1",
   "metadata": {},
   "source": [
    "## 6、结果写入函数"
   ]
  },
  {
   "cell_type": "code",
   "execution_count": 14,
   "id": "080fa340-a9ca-48ff-abec-187b4a65dfe7",
   "metadata": {},
   "outputs": [],
   "source": [
    "## test_preds 长度为1241的list，对应测试集中1241个样本的标签\n",
    "##运行后会在当前目录生成result.csv文件，提交result.csv文件即可\n",
    "##如果没有生成，请检查test_preds的长度是否为1241！\n",
    "def write_result(test_preds):\n",
    "    if len(test_preds) != 1241:\n",
    "        print(\"错误！请检查test_preds长度是否为1241！！！\")\n",
    "        return -1\n",
    "    test_csv = pd.read_csv(\"./CSVfile/test.csv\",sep=\"#\")\n",
    "    test_csv[\"label\"] = test_preds\n",
    "    test_csv.to_csv(\"./result.csv\",sep = \"#\")\n",
    "    print(\"测试集预测结果已成功写入到文件中！\")"
   ]
  },
  {
   "cell_type": "markdown",
   "id": "70446b3a-cc68-422c-9d2c-afea8df57fb8",
   "metadata": {},
   "source": [
    "## 7、特征预处理函数、主函数"
   ]
  },
  {
   "cell_type": "code",
   "execution_count": 15,
   "id": "b89011cb-de51-47da-9043-7b3371877d03",
   "metadata": {},
   "outputs": [],
   "source": [
    "# ## 提取训练样本特征\n",
    "# ## 文件数量很多时需要的时间较长，请耐心等待\n",
    "# train_feature = extract_audio_feature(train_path) ## np.array (n,88)\n",
    "# df = pd.DataFrame(train_feature)\n",
    "# df[\"label\"] = train_label\n",
    "# df.to_csv(\"train_feature.csv\",index = False)\n",
    "\n",
    "# dev_feature = extract_audio_feature(dev_path)\n",
    "# df = pd.DataFrame(dev_feature)\n",
    "# df[\"label\"] = dev_label\n",
    "# df.to_csv(\"dev_feature.csv\",index = False)\n",
    "\n",
    "# test_csv = pd.read_csv(\"./CSVfile/test.csv\",sep = \"#\")\n",
    "# test_path = list(test_csv.path)\n",
    "# test_feature = extract_audio_feature(test_path)\n",
    "# df = pd.DataFrame(test_feature)\n",
    "# df.to_csv(\"test_feature.csv\",index = False)"
   ]
  },
  {
   "cell_type": "code",
   "execution_count": 324,
   "id": "2add4368-4312-4972-a6f7-fdea31f31d8e",
   "metadata": {},
   "outputs": [],
   "source": [
    "# 加载特征和标签\n",
    "train_feature = pd.read_csv(\"./CSVfile/train_feature.csv\")[:-1]\n",
    "dev_feature = pd.read_csv(\"./CSVfile/dev_feature.csv\")[:-1]\n",
    "test_feature = pd.read_csv(\"./CSVfile/test_feature.csv\")[:]\n",
    "\n",
    "train_label = train_feature[\"label\"]\n",
    "dev_label = dev_feature[\"label\"]\n",
    "train_feature = train_feature.drop(columns = [\"label\"])\n",
    "dev_feature = dev_feature.drop(columns = [\"label\"])"
   ]
  },
  {
   "cell_type": "code",
   "execution_count": 325,
   "id": "8e625507",
   "metadata": {},
   "outputs": [],
   "source": [
    "from sklearn.preprocessing import StandardScaler\n",
    "\n",
    "scaler = StandardScaler()\n",
    "train_feature = scaler.fit_transform(train_feature)\n",
    "dev_feature = scaler.transform(dev_feature)\n",
    "test_feature = scaler.transform(test_feature)"
   ]
  },
  {
   "cell_type": "code",
   "execution_count": 326,
   "id": "62424b49",
   "metadata": {},
   "outputs": [],
   "source": [
    "# from sklearn.model_selection import RandomizedSearchCV\n",
    "\n",
    "# param_dist = {\n",
    "#     'n_estimators': [1, 15, 50, 100, 200, 42],\n",
    "#     'max_depth': [i for i in range(1, 15)],\n",
    "#     'min_samples_split': [i for i in range(2, 10)],\n",
    "#     'min_samples_leaf': [i for i in range(1, 11)],\n",
    "#     'criterion': ['gini', 'entropy'],\n",
    "#     'max_features': ['sqrt', 'log2']\n",
    "# }\n",
    "\n",
    "# rf = RandomForestClassifier(random_state=1)\n",
    "\n",
    "# random_search = RandomizedSearchCV(\n",
    "#     estimator=rf,\n",
    "#     param_distributions=param_dist,\n",
    "#     n_iter=150,\n",
    "#     cv=3,\n",
    "#     verbose=1,\n",
    "#     random_state=1,\n",
    "#     n_jobs=-1,\n",
    "#     error_score='raise'\n",
    "# )\n",
    "\n",
    "# random_search.fit(train_feature, train_label)\n",
    "\n",
    "# print(f\"Best parameters found:\\n{random_search.best_params_}\")"
   ]
  },
  {
   "cell_type": "code",
   "execution_count": 327,
   "id": "7ed3423e",
   "metadata": {},
   "outputs": [],
   "source": [
    "# from sklearn.model_selection import cross_val_score, cross_validate\n",
    "# from lightgbm import LGBMClassifier\n",
    "# import numpy as np\n",
    "\n",
    "# # 定义模型\n",
    "# model = LGBMClassifier(\n",
    "#     boosting_type=\"gbdt\",\n",
    "#     num_leaves=18,\n",
    "#     max_depth=None,\n",
    "#     learning_rate=0.01,\n",
    "#     n_estimators=1000,\n",
    "#     subsample_for_bin=200000,\n",
    "#     min_split_gain=0.1,\n",
    "#     min_child_weight=0.02,\n",
    "#     min_child_samples=20,\n",
    "#     subsample=0.8,\n",
    "#     subsample_freq=2,\n",
    "#     colsample_bytree=0.8,\n",
    "#     reg_alpha=9,\n",
    "#     reg_lambda=2,\n",
    "#     random_state=None,\n",
    "#     n_jobs=-1,\n",
    "#     importance_type=\"split\",\n",
    "# )\n",
    "\n",
    "# # 使用交叉验证评估模型性能\n",
    "# scores = cross_val_score(model, train_feature, train_label, cv=5, scoring='accuracy')\n",
    "# print(\"Cross-validation scores:\", scores)\n",
    "# print(\"Average cross-validation score:\", np.mean(scores))\n",
    "\n",
    "# # 使用交叉验证评估模型性能，获取更多指标\n",
    "# cv_results = cross_validate(model, train_feature, train_label, cv=5, scoring=['accuracy', 'f1_macro', 'precision_macro', 'recall_macro'])\n",
    "# print(\"Cross-validation results:\", cv_results)\n",
    "# print(\"Average accuracy:\", np.mean(cv_results['test_accuracy']))\n",
    "# print(\"Average F1 score:\", np.mean(cv_results['test_f1_macro']))\n",
    "# print(\"Average precision:\", np.mean(cv_results['test_precision_macro']))\n",
    "# print(\"Average recall:\", np.mean(cv_results['test_recall_macro']))"
   ]
  },
  {
   "cell_type": "code",
   "execution_count": 346,
   "id": "5d501de0",
   "metadata": {},
   "outputs": [],
   "source": [
    "model = MyLGBM(\n",
    "    boosting_type=\"gbdt\",\n",
    "    num_leaves=14,\n",
    "    max_depth=9,\n",
    "    learning_rate=0.01,\n",
    "    n_estimators=800,\n",
    "    subsample_for_bin=200000,\n",
    "    min_split_gain=0.1,\n",
    "    min_child_weight=0.001,\n",
    "    min_child_samples=20,\n",
    "    subsample=0.8,\n",
    "    subsample_freq=2,\n",
    "    colsample_bytree=0.8,\n",
    "    reg_alpha=6,\n",
    "    reg_lambda=5.0,\n",
    "    random_state=None,\n",
    "    n_jobs=-1,\n",
    "    importance_type=\"split\",\n",
    ")"
   ]
  },
  {
   "cell_type": "code",
   "execution_count": 347,
   "id": "2a2839ac",
   "metadata": {},
   "outputs": [
    {
     "name": "stdout",
     "output_type": "stream",
     "text": [
      "(3258, 88) (3258,)\n"
     ]
    }
   ],
   "source": [
    "print(train_feature.shape, train_label.shape)"
   ]
  },
  {
   "cell_type": "code",
   "execution_count": 348,
   "id": "08663889",
   "metadata": {},
   "outputs": [
    {
     "name": "stdout",
     "output_type": "stream",
     "text": [
      "[LightGBM] [Info] Auto-choosing col-wise multi-threading, the overhead of testing was 0.011167 seconds.\n",
      "You can set `force_col_wise=true` to remove the overhead.\n",
      "[LightGBM] [Info] Total Bins 22440\n",
      "[LightGBM] [Info] Number of data points in the train set: 3258, number of used features: 88\n",
      "[LightGBM] [Info] Start training from score -1.683640\n",
      "[LightGBM] [Info] Start training from score -1.296524\n",
      "[LightGBM] [Info] Start training from score -1.117200\n",
      "[LightGBM] [Info] Start training from score -1.543519\n",
      "Train:\n",
      "acc:0.8621853898096992\n",
      "ua:0.8605109044805632\n",
      "f1:0.8640578736500462\n",
      "precision:0.8709105256014537\n",
      "confuse_matrix:\n",
      "[[502  32  64   7]\n",
      " [ 17 727  92  55]\n",
      " [ 18  44 950  54]\n",
      " [  7  11  48 630]]\n",
      "Dev:\n",
      "acc:0.5805825242718446\n",
      "ua:0.5802966622759491\n",
      "f1:0.5812224993577815\n",
      "precision:0.595528427025291\n",
      "confuse_matrix:\n",
      "[[217  49  55   5]\n",
      " [ 96 128  66  13]\n",
      " [ 17  49 172  20]\n",
      " [  3   5  54  81]]\n"
     ]
    }
   ],
   "source": [
    "best_lgbm = model\n",
    "best_lgbm.fit(train_feature, train_label)\n",
    "\n",
    "# 评估模型在训练集上的表现\n",
    "acc, ua, f1, precision, confuse_matrix = calculate_score_classification(\n",
    "    best_lgbm.predict(train_feature), train_label\n",
    ")\n",
    "print(\n",
    "    f\"Train:\\nacc:{acc}\\nua:{ua}\\nf1:{f1}\\nprecision:{precision}\\nconfuse_matrix:\\n{confuse_matrix}\"\n",
    ")\n",
    "\n",
    "# 评估模型在验证集上的表现\n",
    "acc, ua, f1, precision, confuse_matrix = calculate_score_classification(\n",
    "    best_lgbm.predict(dev_feature), dev_label\n",
    ")\n",
    "print(\n",
    "    f\"Dev:\\nacc:{acc}\\nua:{ua}\\nf1:{f1}\\nprecision:{precision}\\nconfuse_matrix:\\n{confuse_matrix}\"\n",
    ")"
   ]
  }
 ],
 "metadata": {
  "kernelspec": {
   "display_name": "lhy",
   "language": "python",
   "name": "python3"
  },
  "language_info": {
   "codemirror_mode": {
    "name": "ipython",
    "version": 3
   },
   "file_extension": ".py",
   "mimetype": "text/x-python",
   "name": "python",
   "nbconvert_exporter": "python",
   "pygments_lexer": "ipython3",
   "version": "3.8.20"
  }
 },
 "nbformat": 4,
 "nbformat_minor": 5
}
